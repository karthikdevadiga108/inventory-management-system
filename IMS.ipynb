{
 "cells": [
  {
   "cell_type": "code",
   "execution_count": 23,
   "id": "14be41f4",
   "metadata": {},
   "outputs": [],
   "source": [
    "import json\n",
    "\n",
    "fd=open('record.json','r')\n",
    "\n",
    "r=fd.read()\n",
    "\n",
    "fd.close\n",
    "\n",
    "record= json.loads(r)"
   ]
  },
  {
   "cell_type": "code",
   "execution_count": 20,
   "id": "18628f72",
   "metadata": {},
   "outputs": [
    {
     "name": "stdout",
     "output_type": "stream",
     "text": [
      "Enter the Product ID: 1027\n",
      "Enter the product name: Caps\n",
      "Enter the quantity: 50\n",
      "Enter the price: 40\n"
     ]
    }
   ],
   "source": [
    "prod_id=str(input('Enter the Product ID: '))\n",
    "name=str(input('Enter the product name: '))\n",
    "qn=int(input('Enter the quantity: '))\n",
    "pr=int(input('Enter the price: '))\n",
    "\n",
    "record[prod_id] = {'name': name, 'pr': pr, 'qn': qn}"
   ]
  },
  {
   "cell_type": "code",
   "execution_count": 24,
   "id": "6e476fd9",
   "metadata": {},
   "outputs": [
    {
     "data": {
      "text/plain": [
       "{'1001': {'name': 'Choco Cake', 'pr': 100, 'qn': 34},\n",
       " '1002': {'name': 'Milk Cake', 'pr': 800, 'qn': 100},\n",
       " '1003': {'name': 'Drink', 'pr': 85, 'qn': 100},\n",
       " '1004': {'name': 'Candy', 'pr': 5, 'qn': 1000},\n",
       " '1005': {'name': 'Pen', 'pr': 20, 'qn': 100},\n",
       " '1006': {'name': 'Phone', 'pr': 50000, 'qn': 10},\n",
       " '1007': {'name': 'Mic', 'pr': 1500, 'qn': 10},\n",
       " '1008': {'name': 'Case', 'pr': 599, 'qn': 5},\n",
       " '1009': {'name': 'Keyboard', 'pr': 1999, 'qn': 10},\n",
       " '1010': {'name': 'Bottles', 'pr': 40, 'qn': 100},\n",
       " '1011': {'name': 'Books', 'pr': 30, 'qn': 200},\n",
       " '1012': {'name': 'Charger', 'pr': 800, 'qn': 245},\n",
       " '1013': {'name': 'Pin', 'pr': 2, 'qn': 785},\n",
       " '1014': {'name': 'Medikit', 'pr': 250, 'qn': 250},\n",
       " '1015': {'name': 'Pipe', 'pr': 250, 'qn': 25},\n",
       " '1016': {'name': 'Sofa', 'pr': 25000, 'qn': 25},\n",
       " '1017': {'name': 'Sandals', 'pr': 300, 'qn': 250},\n",
       " '1018': {'name': 'Shoes', 'pr': 500, 'qn': 250},\n",
       " '1019': {'name': 'Laptop', 'pr': 60000, 'qn': 25},\n",
       " '1020': {'name': 'Computer', 'pr': 50000, 'qn': 25},\n",
       " '1021': {'name': 'Face Wash', 'pr': 45, 'qn': 250},\n",
       " '1022': {'name': 'Brush', 'pr': 20, 'qn': 50},\n",
       " '1023': {'name': 'Chair', 'pr': 200, 'qn': 50},\n",
       " '1024': {'name': 'Bags', 'pr': 550, 'qn': 100},\n",
       " '1025': {'name': 'Pencil box', 'pr': 50, 'qn': 40},\n",
       " '1026': {'name': 'Belts', 'pr': 100, 'qn': 50},\n",
       " '1027': {'name': 'Caps', 'pr': 40, 'qn': 50}}"
      ]
     },
     "execution_count": 24,
     "metadata": {},
     "output_type": "execute_result"
    }
   ],
   "source": [
    "record"
   ]
  },
  {
   "cell_type": "code",
   "execution_count": 25,
   "id": "4c404a43",
   "metadata": {},
   "outputs": [],
   "source": [
    "js=json.dumps(record)\n",
    "\n",
    "fd=open('record.json','w')\n",
    "\n",
    "fd.write(js)\n",
    "\n",
    "fd.close()"
   ]
  },
  {
   "cell_type": "code",
   "execution_count": 26,
   "id": "03c4bc83",
   "metadata": {},
   "outputs": [],
   "source": [
    "#sales"
   ]
  },
  {
   "cell_type": "code",
   "execution_count": 108,
   "id": "6f6ecbc0",
   "metadata": {},
   "outputs": [
    {
     "name": "stdout",
     "output_type": "stream",
     "text": [
      "Enter the product ID: 1020\n",
      "Enter the quantity: 3\n",
      "The name of the product is:  Computer\n",
      "Payable Price:  150000\n",
      "Quantity bought:  3\n"
     ]
    }
   ],
   "source": [
    "p_prod=str(input('Enter the product ID: '))\n",
    "p_qn=int(input('Enter the quantity: '))\n",
    "\n",
    "print(\"The name of the product is: \",record[p_prod]['name'])\n",
    "print('Payable Price: ', record[p_prod]['pr']*p_qn)\n",
    "print('Quantity bought: ', p_qn)\n",
    "\n",
    "record[p_prod]['qn'] = record[p_prod]['qn']-p_qn"
   ]
  },
  {
   "cell_type": "code",
   "execution_count": 109,
   "id": "61928827",
   "metadata": {},
   "outputs": [],
   "source": [
    "js=json.dumps(record)\n",
    "\n",
    "fd= open('record.json','w')\n",
    "\n",
    "fd.write((js))\n",
    "\n",
    "fd.close()"
   ]
  },
  {
   "cell_type": "code",
   "execution_count": 110,
   "id": "464b274e",
   "metadata": {},
   "outputs": [
    {
     "data": {
      "text/plain": [
       "{'1001': {'name': 'Choco Cake', 'pr': 100, 'qn': 19},\n",
       " '1002': {'name': 'Milk Cake', 'pr': 800, 'qn': 100},\n",
       " '1003': {'name': 'Drink', 'pr': 85, 'qn': 92},\n",
       " '1004': {'name': 'Candy', 'pr': 5, 'qn': 1000},\n",
       " '1005': {'name': 'Pen', 'pr': 20, 'qn': 100},\n",
       " '1006': {'name': 'Phone', 'pr': 50000, 'qn': 10},\n",
       " '1007': {'name': 'Mic', 'pr': 1500, 'qn': 6},\n",
       " '1008': {'name': 'Case', 'pr': 599, 'qn': 5},\n",
       " '1009': {'name': 'Keyboard', 'pr': 1999, 'qn': 8},\n",
       " '1010': {'name': 'Bottles', 'pr': 40, 'qn': 100},\n",
       " '1011': {'name': 'Books', 'pr': 30, 'qn': 200},\n",
       " '1012': {'name': 'Charger', 'pr': 800, 'qn': 245},\n",
       " '1013': {'name': 'Pin', 'pr': 2, 'qn': 785},\n",
       " '1014': {'name': 'Medikit', 'pr': 250, 'qn': 250},\n",
       " '1015': {'name': 'Pipe', 'pr': 250, 'qn': 25},\n",
       " '1016': {'name': 'Sofa', 'pr': 25000, 'qn': 22},\n",
       " '1017': {'name': 'Sandals', 'pr': 300, 'qn': 250},\n",
       " '1018': {'name': 'Shoes', 'pr': 500, 'qn': 250},\n",
       " '1019': {'name': 'Laptop', 'pr': 60000, 'qn': 25},\n",
       " '1020': {'name': 'Computer', 'pr': 50000, 'qn': 22},\n",
       " '1021': {'name': 'Face Wash', 'pr': 45, 'qn': 250},\n",
       " '1022': {'name': 'Brush', 'pr': 20, 'qn': 46},\n",
       " '1023': {'name': 'Chair', 'pr': 200, 'qn': 50},\n",
       " '1024': {'name': 'Bags', 'pr': 550, 'qn': 100},\n",
       " '1025': {'name': 'Pencil box', 'pr': 50, 'qn': 34},\n",
       " '1026': {'name': 'Belts', 'pr': 100, 'qn': 47},\n",
       " '1027': {'name': 'Caps', 'pr': 40, 'qn': 50}}"
      ]
     },
     "execution_count": 110,
     "metadata": {},
     "output_type": "execute_result"
    }
   ],
   "source": [
    "record"
   ]
  },
  {
   "cell_type": "code",
   "execution_count": 111,
   "id": "fb4bc9fa",
   "metadata": {},
   "outputs": [
    {
     "data": {
      "text/plain": [
       "{'prod': '1020', 'qn': 3, 'amount': 150000}"
      ]
     },
     "execution_count": 111,
     "metadata": {},
     "output_type": "execute_result"
    }
   ],
   "source": [
    "{'prod':p_prod,'qn':p_qn,'amount':record[p_prod]['pr']*p_qn}"
   ]
  },
  {
   "cell_type": "code",
   "execution_count": 31,
   "id": "85d74a31",
   "metadata": {},
   "outputs": [],
   "source": [
    "sales={1:{'prod':p_prod,'qn':p_qn,'amount':record[p_prod]['pr']*p_qn}}"
   ]
  },
  {
   "cell_type": "code",
   "execution_count": 32,
   "id": "d593da08",
   "metadata": {},
   "outputs": [
    {
     "data": {
      "text/plain": [
       "'{\"1\": {\"prod\": \"1001\", \"qn\": 5, \"amount\": 500}}'"
      ]
     },
     "execution_count": 32,
     "metadata": {},
     "output_type": "execute_result"
    }
   ],
   "source": [
    "json.dumps(sales)"
   ]
  },
  {
   "cell_type": "code",
   "execution_count": 33,
   "id": "9fca07c5",
   "metadata": {},
   "outputs": [],
   "source": [
    "fd= open('record.json','r')\n",
    "\n",
    "r=fd.read()\n",
    "\n",
    "fd.close()"
   ]
  },
  {
   "cell_type": "code",
   "execution_count": 112,
   "id": "3d8f9fd9",
   "metadata": {},
   "outputs": [
    {
     "data": {
      "text/plain": [
       "{10: {'prod': '1020', 'qn': 3, 'amount': 150000}}"
      ]
     },
     "execution_count": 112,
     "metadata": {},
     "output_type": "execute_result"
    }
   ],
   "source": [
    "{(len(sales)+1):{'prod':p_prod,'qn':p_qn,'amount':record[p_prod]['pr']*p_qn}}"
   ]
  },
  {
   "cell_type": "code",
   "execution_count": 113,
   "id": "a7abd5e7",
   "metadata": {},
   "outputs": [],
   "source": [
    "sales[len(sales)+1]={'prod':p_prod,'qn':p_qn,'amount':record[p_prod]['pr']*p_qn}"
   ]
  },
  {
   "cell_type": "code",
   "execution_count": 114,
   "id": "a0893b29",
   "metadata": {},
   "outputs": [
    {
     "data": {
      "text/plain": [
       "{1: {'prod': '1001', 'qn': 5, 'amount': 500},\n",
       " 2: {'prod': '1022', 'qn': 4, 'amount': 80},\n",
       " 3: {'prod': '1016', 'qn': 3, 'amount': 75000},\n",
       " 4: {'prod': '1003', 'qn': 8, 'amount': 680},\n",
       " 5: {'prod': '1025', 'qn': 6, 'amount': 300},\n",
       " 6: {'prod': '1026', 'qn': 3, 'amount': 300},\n",
       " 7: {'prod': '1007', 'qn': 4, 'amount': 6000},\n",
       " 8: {'prod': '1001', 'qn': 10, 'amount': 1000},\n",
       " 9: {'prod': '1009', 'qn': 2, 'amount': 3998},\n",
       " 10: {'prod': '1020', 'qn': 3, 'amount': 150000}}"
      ]
     },
     "execution_count": 114,
     "metadata": {},
     "output_type": "execute_result"
    }
   ],
   "source": [
    "sales"
   ]
  },
  {
   "cell_type": "code",
   "execution_count": 115,
   "id": "8dc5f1aa",
   "metadata": {},
   "outputs": [],
   "source": [
    "js=json.dumps(sales)"
   ]
  },
  {
   "cell_type": "code",
   "execution_count": 116,
   "id": "799be253",
   "metadata": {},
   "outputs": [],
   "source": [
    "fd= open('sales.json','w')\n",
    "fd.write(js)\n",
    "fd.close()"
   ]
  },
  {
   "cell_type": "code",
   "execution_count": null,
   "id": "65a8d906",
   "metadata": {},
   "outputs": [],
   "source": []
  }
 ],
 "metadata": {
  "kernelspec": {
   "display_name": "Python 3",
   "language": "python",
   "name": "python3"
  },
  "language_info": {
   "codemirror_mode": {
    "name": "ipython",
    "version": 3
   },
   "file_extension": ".py",
   "mimetype": "text/x-python",
   "name": "python",
   "nbconvert_exporter": "python",
   "pygments_lexer": "ipython3",
   "version": "3.8.8"
  }
 },
 "nbformat": 4,
 "nbformat_minor": 5
}
